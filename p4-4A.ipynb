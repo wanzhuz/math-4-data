{
 "cells": [
  {
   "cell_type": "code",
   "execution_count": 9,
   "id": "0eeb4388",
   "metadata": {},
   "outputs": [
    {
     "name": "stdout",
     "output_type": "stream",
     "text": [
      "Optimal primal value: 574.9999999639859\n",
      "Optimal X: 125.00000001063087\n",
      "Optimal Y: 89.9999999666359\n",
      "Optimal Z: 115.00000000321342\n"
     ]
    }
   ],
   "source": [
    "import cvxpy as cp\n",
    "\n",
    "# Define the primal variables\n",
    "X = cp.Variable()\n",
    "Y = cp.Variable()\n",
    "Z = cp.Variable()\n",
    "\n",
    "# Define the primal constraints\n",
    "constraints_primal = [\n",
    "    9*X + 4*Y + Z <= 1600,\n",
    "    5*X + 8*Y + 5*Z <= 1920,\n",
    "    2*X + 4*Y + 10*Z <= 1760,\n",
    "    X >= 0,\n",
    "    Y >= 0,\n",
    "    Z >= 0\n",
    "]\n",
    "\n",
    "# Define the primal objective function (maximize profit)\n",
    "objective_primal = cp.Maximize(1.50*X + 1.75*Y + 2.00*Z)\n",
    "\n",
    "# Formulate the primal problem\n",
    "primal_problem = cp.Problem(objective_primal, constraints_primal)\n",
    "\n",
    "# Solve the primal problem\n",
    "primal_solution = primal_problem.solve()\n",
    "\n",
    "# Get the optimal values\n",
    "optimal_X = X.value\n",
    "optimal_Y = Y.value\n",
    "optimal_Z = Z.value\n",
    "optimal_primal_value = primal_problem.value\n",
    "\n",
    "print(f\"Optimal primal value: {optimal_primal_value}\")\n",
    "print(f\"Optimal X: {optimal_X}\")\n",
    "print(f\"Optimal Y: {optimal_Y}\")\n",
    "print(f\"Optimal Z: {optimal_Z}\")\n"
   ]
  },
  {
   "cell_type": "code",
   "execution_count": 7,
   "id": "63b6eb1c",
   "metadata": {},
   "outputs": [
    {
     "name": "stdout",
     "output_type": "stream",
     "text": [
      "Optimal dual value: 574.9999999596176\n",
      "Optimal P: 0.07291666666036895\n",
      "Optimal Q: 0.11458333333391485\n",
      "Optimal R: 0.13541666664881297\n"
     ]
    }
   ],
   "source": [
    "# Define the dual variables\n",
    "P = cp.Variable()\n",
    "Q = cp.Variable()\n",
    "R = cp.Variable()\n",
    "\n",
    "# Define the dual constraints\n",
    "constraints_dual = [\n",
    "    9*P + 5*Q + 2*R >= 1.50,\n",
    "    4*P + 8*Q + 4*R >= 1.75,\n",
    "    P + 5*Q + 10*R >= 2.00,\n",
    "    P >= 0,\n",
    "    Q >= 0,\n",
    "    R >= 0\n",
    "]\n",
    "\n",
    "# Define the dual objective function (minimize cost)\n",
    "objective_dual = cp.Minimize(1600*P + 1920*Q + 1760*R)\n",
    "\n",
    "# Formulate the dual problem\n",
    "dual_problem = cp.Problem(objective_dual, constraints_dual)\n",
    "\n",
    "# Solve the dual problem\n",
    "dual_solution = dual_problem.solve()\n",
    "\n",
    "# Get the optimal values\n",
    "optimal_P = P.value\n",
    "optimal_Q = Q.value\n",
    "optimal_R = R.value\n",
    "optimal_dual_value = dual_problem.value\n",
    "\n",
    "print(f\"Optimal dual value: {optimal_dual_value}\")\n",
    "print(f\"Optimal P: {optimal_P}\")\n",
    "print(f\"Optimal Q: {optimal_Q}\")\n",
    "print(f\"Optimal R: {optimal_R}\")\n"
   ]
  },
  {
   "cell_type": "code",
   "execution_count": null,
   "id": "6e1eff15",
   "metadata": {},
   "outputs": [],
   "source": []
  }
 ],
 "metadata": {
  "kernelspec": {
   "display_name": "Python 3 (ipykernel)",
   "language": "python",
   "name": "python3"
  },
  "language_info": {
   "codemirror_mode": {
    "name": "ipython",
    "version": 3
   },
   "file_extension": ".py",
   "mimetype": "text/x-python",
   "name": "python",
   "nbconvert_exporter": "python",
   "pygments_lexer": "ipython3",
   "version": "3.7.9"
  }
 },
 "nbformat": 4,
 "nbformat_minor": 5
}
